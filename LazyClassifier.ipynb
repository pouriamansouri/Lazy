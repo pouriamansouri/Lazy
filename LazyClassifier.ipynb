{
 "cells": [
  {
   "cell_type": "markdown",
   "id": "916ca154",
   "metadata": {},
   "source": [
    "LazyClassifier\n",
    "Please note that LazyClassifier is intended for quick and preliminary model evaluation, and the results should\n",
    "be interpreted with caution. It is important to thoroughly evaluate the performance of individual classifiers\n",
    "using appropriate evaluation metrics and techniques before making any final conclusions about their effectiveness\n",
    "for your specific use case.\n"
   ]
  },
  {
   "cell_type": "code",
   "execution_count": null,
   "id": "62c3608b",
   "metadata": {},
   "outputs": [],
   "source": [
    "from sklearn.datasets import load_iris\n",
    "from sklearn.model_selection import train_test_split\n",
    "from sklearn.metrics import accuracy_score\n",
    "from lazypredict.Supervised import LazyClassifier\n",
    "\n",
    "# Load the Iris dataset\n",
    "iris = load_iris()\n",
    "X = iris.data\n",
    "y = iris.target\n",
    "\n",
    "# Split the dataset into training and test sets\n",
    "X_train, X_test, y_train, y_test = train_test_split(X, y, test_size=0.2, random_state=42)\n",
    "\n",
    "# Create a LazyClassifier instance\n",
    "clf = LazyClassifier(verbose=0, ignore_warnings=True, custom_metric=None)\n",
    "\n",
    "# Fit and predict using multiple classifiers\n",
    "models, predictions = clf.fit(X_train, X_test, y_train, y_test)\n",
    "print(models)\n"
   ]
  }
 ],
 "metadata": {
  "kernelspec": {
   "display_name": "Python 3 (ipykernel)",
   "language": "python",
   "name": "python3"
  },
  "language_info": {
   "codemirror_mode": {
    "name": "ipython",
    "version": 3
   },
   "file_extension": ".py",
   "mimetype": "text/x-python",
   "name": "python",
   "nbconvert_exporter": "python",
   "pygments_lexer": "ipython3",
   "version": "3.9.7"
  }
 },
 "nbformat": 4,
 "nbformat_minor": 5
}
